{
 "cells": [
  {
   "cell_type": "markdown",
   "source": [
    "## 3-dimensional pandemic simulation\n",
    "\n",
    "Simple simulation of COVID-19 spread based on the SIR (susceptible -> infectious -> removed) model. \n",
    "The total population is given as $N = S + I + R$, and consists of susceptible ($S$), infectious ($I$) and \n",
    "removed ($R$) - either recovered or dead - subpopulations. \n",
    "\n",
    "The dynamics of disease spread are captured by the following ODEs:\n",
    "\n",
    "$\\frac{dS}{dt} = \\frac{-\\beta SI}{N}$\n",
    "\n",
    "$\\frac{dI}{dt} = \\frac{\\beta SI}{N} - \\gamma I$\n",
    "\n",
    "$\\frac{dR}{dt} = \\gamma I$\n",
    "\n",
    "where $\\beta$ denotes the rate of infection and $\\gamma$ the rate of recovery. \n",
    "The disease's basic reproduction number $R_0$ is defined as $\\frac{\\beta}{\\gamma}$.\n",
    "\n",
    "### Starting Values:\n",
    "\n",
    "Source (April 6th 2020): https://www.worldometers.info/coronavirus/country/germany/\n",
    "\n",
    "$N = 82.790.000$\n",
    "\n",
    "$I_0 = 69.848$\n",
    "\n",
    "$R_0 = 30.284$\n",
    "\n",
    "$S_0 = N - I_0 - R_0 = 82.689.868$\n",
    "\n",
    "### Parameters:\n"
   ],
   "metadata": {
    "collapsed": false
   }
  }
 ],
 "metadata": {
  "kernelspec": {
   "display_name": "Python 3",
   "language": "python",
   "name": "python3"
  },
  "language_info": {
   "codemirror_mode": {
    "name": "ipython",
    "version": 2
   },
   "file_extension": ".py",
   "mimetype": "text/x-python",
   "name": "python",
   "nbconvert_exporter": "python",
   "pygments_lexer": "ipython2",
   "version": "2.7.6"
  },
  "pycharm": {
   "stem_cell": {
    "cell_type": "raw",
    "source": [],
    "metadata": {
     "collapsed": false
    }
   }
  }
 },
 "nbformat": 4,
 "nbformat_minor": 0
}